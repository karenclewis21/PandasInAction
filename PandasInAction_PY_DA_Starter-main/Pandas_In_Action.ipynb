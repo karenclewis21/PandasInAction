{
 "cells": [
  {
   "cell_type": "markdown",
   "metadata": {},
   "source": [
    "## Lab: Pandas In Action\n",
    "\n",
    "### Below will be a series of questions, followed by an empty Python and Markdown block.\n",
    "* Use the Python code block to write your answers to each question.\n",
    "    * Once completed, select the play button to the left of the code block to execute your solution.\n",
    "    * The output will display below the code block.  Be sure to test and debug as you go to ensure you get the desired output for each question!\n",
    "<br>"
   ]
  },
  {
   "cell_type": "markdown",
   "metadata": {},
   "source": [
    "## Imports\n",
    "✅ Use the correct statement to import the Pandas library into your current file"
   ]
  },
  {
   "cell_type": "code",
   "execution_count": null,
   "metadata": {},
   "outputs": [],
   "source": [
    "#TODO: Set up your imports"
   ]
  },
  {
   "cell_type": "markdown",
   "metadata": {},
   "source": [
    "## Series From Lists\n",
    "✅ Using the following List, create a new Pandas Series, and save it as the variable `list_series`<br>\n",
    "✅ Then, print this Series to the terminal"
   ]
  },
  {
   "cell_type": "code",
   "execution_count": null,
   "metadata": {},
   "outputs": [],
   "source": [
    "#TODO: Create a series from my_list\n",
    "my_list = [\"apple\", \"banana\",\"cantalope\",\"durian\"]"
   ]
  },
  {
   "cell_type": "markdown",
   "metadata": {},
   "source": [
    "### ✅ Print the value at index 1 of `list_series` to the terminal"
   ]
  },
  {
   "cell_type": "code",
   "execution_count": null,
   "metadata": {},
   "outputs": [],
   "source": [
    "#TODO: Print the value at index 1"
   ]
  },
  {
   "cell_type": "markdown",
   "metadata": {},
   "source": [
    "### Using the **SAME** variable `my_list`, create a **new** Pandas Series\n",
    "✅ Create specific labels for this series, corresponding to the **first letter** of each value<br><br>\n",
    "💡 **Example: \"A\" --> \"apple\", \"B\" --> \"banana\"** 💡<br><br>\n",
    "✅ Save this series as the variable `index_series`<br>\n",
    "✅ Then, print the value at index \"C\" of `index_series` to the terminal"
   ]
  },
  {
   "cell_type": "code",
   "execution_count": null,
   "metadata": {},
   "outputs": [],
   "source": [
    "#TODO: Create a series from my_list with index labels"
   ]
  },
  {
   "cell_type": "markdown",
   "metadata": {},
   "source": [
    "## Series From Dictionary\n",
    "✅ Using the following Dictionary, create a new Pandas Series, and save it as the variable `dictionary_series`<br>\n",
    "✅ Then, print the value at index \"Tuesday\" to the terminal"
   ]
  },
  {
   "cell_type": "code",
   "execution_count": null,
   "metadata": {},
   "outputs": [],
   "source": [
    "#TODO: Create a series from my_dictionary\n",
    "my_dictionary = {\n",
    "    \"Monday\": \"8 hours\",\n",
    "    \"Tuesday\": \"4 hours\",\n",
    "    \"Wednesday\": \"6 hours\"\n",
    "}"
   ]
  },
  {
   "cell_type": "markdown",
   "metadata": {},
   "source": [
    "## DataFrame\n",
    "✅ Using the following Dictionary, create a new Pandas DataFrame, and save it as the variable `my_dataframe`<br>\n",
    "✅ Print this new DataFrame to the terminal"
   ]
  },
  {
   "cell_type": "code",
   "execution_count": null,
   "metadata": {},
   "outputs": [],
   "source": [
    "#TODO: Create a DataFrame from course_dictionary\n",
    "course_dictionary = {\n",
    "    'course':[\"Pandas 101\",\"Underwater Basket Weaving\",\"Tree Climbing\",\"Cryptozoology\"],\n",
    "    'credits':[5, 8, 6, 8]\n",
    "}"
   ]
  },
  {
   "cell_type": "markdown",
   "metadata": {},
   "source": [
    "✅ Locate the row at index 2, and print it to the terminal"
   ]
  },
  {
   "cell_type": "code",
   "execution_count": null,
   "metadata": {},
   "outputs": [],
   "source": [
    "#TODO: Locate & print the row at index 2"
   ]
  },
  {
   "cell_type": "markdown",
   "metadata": {},
   "source": [
    "✅ Locate the rows at index 0 and 3, and print both to the terminal"
   ]
  },
  {
   "cell_type": "code",
   "execution_count": null,
   "metadata": {},
   "outputs": [],
   "source": [
    "#TODO: Locate & print the rows at index 0 and 3"
   ]
  },
  {
   "cell_type": "markdown",
   "metadata": {},
   "source": [
    "### Using the following Dictionary, create a new Pandas DataFrame\n",
    "✅ Use the `named_indexes` variable as the *named indexes* of the DataFrame<br>\n",
    "✅ Save this DataFrame as the variable `named_dataframe`<br>\n",
    "✅ Then, print the DataFrame to the terminal"
   ]
  },
  {
   "cell_type": "code",
   "execution_count": null,
   "metadata": {},
   "outputs": [],
   "source": [
    "#TODO: Create a DataFrame from order_dictionary, with named_indexes as the names for the indexes\n",
    "order_dictionary = {\n",
    "    'color': [\"red\",\"blue\",\"green\",\"purple\"],\n",
    "    'quantity': [2,1,2,3],\n",
    "    'total cost': [20,10,20,30]\n",
    "}\n",
    "\n",
    "named_indexes = [\"order1\",\"order2\",\"order3\", \"order4\"]"
   ]
  },
  {
   "cell_type": "markdown",
   "metadata": {},
   "source": [
    "✅ Locate the row at the index `order4`, and print it to the terminal"
   ]
  },
  {
   "cell_type": "code",
   "execution_count": null,
   "metadata": {},
   "outputs": [],
   "source": [
    "#TODO: Locate & print the row at the index \"order4\""
   ]
  },
  {
   "cell_type": "markdown",
   "metadata": {},
   "source": [
    "## Analyzing DataFrames\n",
    "✅ Use your `named_dataframe` variable for the following questions<br>\n",
    "✅ Print the **first three rows** of the DataFrame to the terminal"
   ]
  },
  {
   "cell_type": "code",
   "execution_count": null,
   "metadata": {},
   "outputs": [],
   "source": [
    "#TODO: Print the first three rows of your DataFrame"
   ]
  },
  {
   "cell_type": "markdown",
   "metadata": {},
   "source": [
    "✅ Print the **last row** of the DataFrame to the terminal"
   ]
  },
  {
   "cell_type": "code",
   "execution_count": null,
   "metadata": {},
   "outputs": [],
   "source": [
    "#TODO: Print the last row of your DataFrame"
   ]
  },
  {
   "cell_type": "markdown",
   "metadata": {},
   "source": [
    "✅ Use the appropriate function to display the **data type** of each column in our DataFrame"
   ]
  },
  {
   "cell_type": "code",
   "execution_count": null,
   "metadata": {},
   "outputs": [],
   "source": [
    "#TODO: Print the data type of each column to the terminal"
   ]
  },
  {
   "cell_type": "markdown",
   "metadata": {},
   "source": [
    "## **BONUS:** DataFrames from .csv Files\n",
    "✅ Use Pandas to import the file `pandas_in_action.csv` into a DataFrame<br>\n",
    "✅ Name this variable `csv_dataframe`<br>\n",
    "✅ Use the `id` column as the **index column** for your DataFrame<br>\n",
    "✅ Then, print this DataFrame to the terminal"
   ]
  },
  {
   "cell_type": "code",
   "execution_count": null,
   "metadata": {},
   "outputs": [],
   "source": [
    "#TODO: Import pandas_in_action.csv into a DataFrame, and print it to the terminal"
   ]
  },
  {
   "cell_type": "markdown",
   "metadata": {},
   "source": [
    "✅ Use the appropriate function to display the **information** about the DataFrame"
   ]
  },
  {
   "cell_type": "code",
   "execution_count": null,
   "metadata": {},
   "outputs": [],
   "source": [
    "#TODO: Print the information about csv_dataframe"
   ]
  },
  {
   "cell_type": "markdown",
   "metadata": {},
   "source": [
    "✅ Use the appropriate function to display the **first five rows** of the DataFrame"
   ]
  },
  {
   "cell_type": "code",
   "execution_count": null,
   "metadata": {},
   "outputs": [],
   "source": [
    "#TODO: Print the first five rows of csv_dataframe"
   ]
  },
  {
   "cell_type": "markdown",
   "metadata": {},
   "source": [
    "### Currently, our DataFrame is sorted by the `id` column\n",
    "✅ Sort the DataFrame by the `happiness_rank` column, so we can easily see the top-rated countries for `happiness_rank`<br>\n",
    "✅ Then, print the **first three rows** of the DataFrame to the terminal<br>\n",
    "✅ **HINT: Chaining methods will be useful for this question!**"
   ]
  },
  {
   "cell_type": "code",
   "execution_count": null,
   "metadata": {},
   "outputs": [],
   "source": [
    "#TODO: Sort csv_dataframe by the happiness_rank column, then print the first three rows"
   ]
  },
  {
   "cell_type": "markdown",
   "metadata": {},
   "source": [
    "✅ Sort the DataFrame again by the `happiness_rank`, this time storing the result in a new variable `sorted_csv_dataframe`<br>\n",
    "✅ Then, print the **first three rows** of the DataFrame to the terminal"
   ]
  },
  {
   "cell_type": "code",
   "execution_count": null,
   "metadata": {},
   "outputs": [],
   "source": [
    "#TODO: Sort csv_dataframe and store in sorted_csv_dataframe, then print the first three rows"
   ]
  },
  {
   "cell_type": "markdown",
   "metadata": {},
   "source": [
    "✅ **Using your new variable `sorted_csv_dataframe`**, print the 5 countries with the **largest population** to the terminal"
   ]
  },
  {
   "cell_type": "code",
   "execution_count": null,
   "metadata": {},
   "outputs": [],
   "source": [
    "#TODO: Print the 5 countries with the largest population from sorted_csv_dataframe"
   ]
  },
  {
   "cell_type": "markdown",
   "metadata": {},
   "source": [
    "✅ Use the appropriate function to print the **number of unique values within each column** of your sorted DataFrame to the terminal"
   ]
  },
  {
   "cell_type": "code",
   "execution_count": null,
   "metadata": {},
   "outputs": [],
   "source": [
    "#TODO: Print the number of unique values within sorted_csv_dataframe"
   ]
  },
  {
   "cell_type": "markdown",
   "metadata": {},
   "source": [
    "✅ Select *just* the columns `\"country\"` and `\"happiness_rank\"`, and print them to the terminal"
   ]
  },
  {
   "cell_type": "code",
   "execution_count": null,
   "metadata": {},
   "outputs": [],
   "source": [
    "#TODO: Print the country & happiness_rank columns from sorted_csv_dataframe"
   ]
  },
  {
   "cell_type": "markdown",
   "metadata": {},
   "source": [
    "✅ Filter your DataFrame using the `\"region\"` column<br>\n",
    "✅ Print this filtered DataFrame to the terminal"
   ]
  },
  {
   "cell_type": "code",
   "execution_count": null,
   "metadata": {},
   "outputs": [],
   "source": [
    "#TODO: Find all countries from the region \"Latin America & Caribbean\", then print to the terminal"
   ]
  },
  {
   "cell_type": "markdown",
   "metadata": {},
   "source": [
    "### Finally, export your sorted DataFrame as a *new* .csv file\n",
    "✅ Use the parameter `encoding='utf-8'` to specify the encoding type of the .csv file<br>\n",
    "✅ Name this file `sorted_pandas_in_action.csv`"
   ]
  },
  {
   "cell_type": "code",
   "execution_count": null,
   "metadata": {},
   "outputs": [],
   "source": [
    "#TODO: Export your DataFrame as sorted_pandas_in_action.csv"
   ]
  }
 ],
 "metadata": {
  "kernelspec": {
   "display_name": "Python 3.10.5 64-bit",
   "language": "python",
   "name": "python3"
  },
  "language_info": {
   "codemirror_mode": {
    "name": "ipython",
    "version": 3
   },
   "file_extension": ".py",
   "mimetype": "text/x-python",
   "name": "python",
   "nbconvert_exporter": "python",
   "pygments_lexer": "ipython3",
   "version": "3.10.5"
  },
  "orig_nbformat": 4,
  "vscode": {
   "interpreter": {
    "hash": "991b4f12e3cd7e62d84ec965b56412c4354ac1fe6297d96f50a80e713193dd77"
   }
  }
 },
 "nbformat": 4,
 "nbformat_minor": 2
}
